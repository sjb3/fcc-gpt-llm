{
 "cells": [
  {
   "cell_type": "markdown",
   "id": "f9578450-d59d-4c5e-b6e3-254c828d6c19",
   "metadata": {},
   "source": [
    "https://www.coursera.org/learn/python-mlops-duke/lecture/Me1wc/hugging-face-transformers"
   ]
  },
  {
   "cell_type": "code",
   "execution_count": 1,
   "id": "092f41d1-22ed-4c56-9780-1bb4f112bb5f",
   "metadata": {},
   "outputs": [],
   "source": [
    "from transformers import pipeline"
   ]
  },
  {
   "cell_type": "code",
   "execution_count": 6,
   "id": "04f805a7-d915-4b64-a037-c8951ebedb09",
   "metadata": {},
   "outputs": [
    {
     "name": "stderr",
     "output_type": "stream",
     "text": [
      "Device set to use mps:0\n"
     ]
    }
   ],
   "source": [
    "generator = pipeline('text2text-generation', model='t5-base')"
   ]
  },
  {
   "cell_type": "code",
   "execution_count": 7,
   "id": "4b04317e-2bd0-4691-b969-4b06a7166d0c",
   "metadata": {},
   "outputs": [
    {
     "data": {
      "text/plain": [
       "[{'generated_text': ': Machine Learning n production environments is largely seen as the ultimate goal.'}]"
      ]
     },
     "execution_count": 7,
     "metadata": {},
     "output_type": "execute_result"
    }
   ],
   "source": [
    "# Summerize\n",
    "\n",
    "generator('Summerize: Machine Learning n production environments is largely seen as the ultimate goal.  Sometimes, deplying models can be difficult when automation is not part of workflow.  Creating foundational process that is reliable and automated is complex and requires commitment from the team and organization as a whole.')"
   ]
  },
  {
   "cell_type": "code",
   "execution_count": 8,
   "id": "e369c567-3841-4fad-8338-fc26aabd78a4",
   "metadata": {},
   "outputs": [
    {
     "data": {
      "text/plain": [
       "[{'generated_text': 'positive'}]"
      ]
     },
     "execution_count": 8,
     "metadata": {},
     "output_type": "execute_result"
    }
   ],
   "source": [
    "# Sentiment analysis\n",
    "\n",
    "generator('sst2 sentence: Automation takes hard work but allows you to have solid deployment.')"
   ]
  },
  {
   "cell_type": "code",
   "execution_count": 9,
   "id": "d2b0e8cc-8300-47c4-af26-e0d9ab92b9ae",
   "metadata": {},
   "outputs": [
    {
     "data": {
      "text/plain": [
       "[{'generated_text': 'not_entailment'}]"
      ]
     },
     "execution_count": 9,
     "metadata": {},
     "output_type": "execute_result"
    }
   ],
   "source": [
    "# Question\n",
    "\n",
    "generator('question: Is deploying models into production hard?')"
   ]
  },
  {
   "cell_type": "code",
   "execution_count": 10,
   "id": "10157305-c679-4fd5-9b14-3a39ae865845",
   "metadata": {},
   "outputs": [
    {
     "data": {
      "text/plain": [
       "[{'generated_text': \"L'automatisation exige beaucoup de travail, mais vous permet d'avoir un déplo\"}]"
      ]
     },
     "execution_count": 10,
     "metadata": {},
     "output_type": "execute_result"
    }
   ],
   "source": [
    "# Translation\n",
    "\n",
    "generator('translate English to French: Automation takes hard work but allows you to have solid deployment.')"
   ]
  },
  {
   "cell_type": "markdown",
   "id": "a748935a-20db-4ecc-bc79-d159f9ec32e5",
   "metadata": {},
   "source": [
    "Other generation objects using other models"
   ]
  },
  {
   "cell_type": "code",
   "execution_count": 13,
   "id": "98499bfd-c4d3-4bbd-b969-391db7b7020c",
   "metadata": {},
   "outputs": [
    {
     "data": {
      "application/vnd.jupyter.widget-view+json": {
       "model_id": "851df3db53244dffbaf3f35e931f2ecb",
       "version_major": 2,
       "version_minor": 0
      },
      "text/plain": [
       "config.json:   0%|          | 0.00/665 [00:00<?, ?B/s]"
      ]
     },
     "metadata": {},
     "output_type": "display_data"
    },
    {
     "data": {
      "application/vnd.jupyter.widget-view+json": {
       "model_id": "71fb18606d4a41e4ab1b2f3365e91383",
       "version_major": 2,
       "version_minor": 0
      },
      "text/plain": [
       "model.safetensors:   0%|          | 0.00/548M [00:00<?, ?B/s]"
      ]
     },
     "metadata": {},
     "output_type": "display_data"
    },
    {
     "data": {
      "application/vnd.jupyter.widget-view+json": {
       "model_id": "8bb6f3a3151d4eefa16ac40bcf3a25fe",
       "version_major": 2,
       "version_minor": 0
      },
      "text/plain": [
       "generation_config.json:   0%|          | 0.00/124 [00:00<?, ?B/s]"
      ]
     },
     "metadata": {},
     "output_type": "display_data"
    },
    {
     "data": {
      "application/vnd.jupyter.widget-view+json": {
       "model_id": "f94e0c7c63074c6f97b4e1f682ae5b6f",
       "version_major": 2,
       "version_minor": 0
      },
      "text/plain": [
       "tokenizer_config.json:   0%|          | 0.00/26.0 [00:00<?, ?B/s]"
      ]
     },
     "metadata": {},
     "output_type": "display_data"
    },
    {
     "data": {
      "application/vnd.jupyter.widget-view+json": {
       "model_id": "fb2597ca06c749e8a5a7947b2041433d",
       "version_major": 2,
       "version_minor": 0
      },
      "text/plain": [
       "vocab.json:   0%|          | 0.00/1.04M [00:00<?, ?B/s]"
      ]
     },
     "metadata": {},
     "output_type": "display_data"
    },
    {
     "data": {
      "application/vnd.jupyter.widget-view+json": {
       "model_id": "0213fcd9d2a74d55a0e29656de567d3e",
       "version_major": 2,
       "version_minor": 0
      },
      "text/plain": [
       "merges.txt:   0%|          | 0.00/456k [00:00<?, ?B/s]"
      ]
     },
     "metadata": {},
     "output_type": "display_data"
    },
    {
     "data": {
      "application/vnd.jupyter.widget-view+json": {
       "model_id": "4c1c3f8b61994bc9980bec897ef97e61",
       "version_major": 2,
       "version_minor": 0
      },
      "text/plain": [
       "tokenizer.json:   0%|          | 0.00/1.36M [00:00<?, ?B/s]"
      ]
     },
     "metadata": {},
     "output_type": "display_data"
    },
    {
     "name": "stderr",
     "output_type": "stream",
     "text": [
      "Device set to use mps:0\n"
     ]
    }
   ],
   "source": [
    "gpt2_generator = pipeline('text-generation', model='gpt2')"
   ]
  },
  {
   "cell_type": "code",
   "execution_count": 14,
   "id": "63d79019-6e5b-482f-8d14-f0fd5a6c6cc0",
   "metadata": {},
   "outputs": [
    {
     "name": "stderr",
     "output_type": "stream",
     "text": [
      "Setting `pad_token_id` to `eos_token_id`:50256 for open-end generation.\n"
     ]
    },
    {
     "data": {
      "text/plain": [
       "[{'generated_text': 'some phrases here was thought to be \"southern accents\", by which he means \"black\" which is in German.\"\\n\\nThe only clear hint that he is saying the same thing about black people in America as he does about him for the other reasons suggested it may be a ploy, rather than an error.\\n\\nA letter to his editor said: \"This was a bit of a distraction from what I think he intends to talk about in an argument so long as it is still readable\". But that wouldn\\'t stop a full page from showing off the \"blackness\" comment, at least in a sense. For instance, a note on the left side of the article states \"Mr Black\\'s words, rather than the actual words, could be interpreted as implying the idea that \\'blackness\\' is a misnomer in German\".\\n\\n\"To sum up the issue, I don\\'t think that Mr Black in any way, or any form whatsoever does, believe in the superiority of blackness in America. I, of course, am a black American, and my race was never determined at random by a single individual but by the American people.\"\\n\\nThe paper\\'s lead researcher, Stephen Crouch, said he didn\\'t want to go into details, and it appears that his colleagues\\' explanations were based on a \"prejudice\" – or \"prejudgement\" – of Mr Crouch. But he suggested the publication should be \"explained in an entirely different way\".\\n\\nImage copyright RNZ Image caption Stephen Crouch is currently at the University of New South Wales (RNZ) for lecture and seminar work, at which he is also the author of \"Why I Love My Black People\"\\n\\n\"I don\\'t think that\\'s the case. And I would be really concerned by anything that would suggest a prejudiced view of any particular black person. I\\'m not sure this can be understood in English. We have a lot of different cultures in different parts of the world and we\\'ve been making a lot of references to \\'the blackness\\' and what it means and how we\\'re using it. But the issue is, that it\\'s a prejudice,\" he said.\\n\\nSome of the paper\\'s other academics said there was still something \"different about the article\". Andrew Mitchell, a professor of English at Oxford University, said people should be aware of how controversial it was and if anyone was wrong to say so. He said a study by Oxford\\'s Department of Psychology had found that \"most of white people\\'s views of blackness were supported'}]"
      ]
     },
     "execution_count": 14,
     "metadata": {},
     "output_type": "execute_result"
    }
   ],
   "source": [
    "gpt2_generator('some phrases here was thought to be', max_new_tokens=512)"
   ]
  },
  {
   "cell_type": "code",
   "execution_count": null,
   "id": "53095873-683a-473b-aa65-038f686f479a",
   "metadata": {},
   "outputs": [],
   "source": []
  }
 ],
 "metadata": {
  "kernelspec": {
   "display_name": "gpu kernel",
   "language": "python",
   "name": "gpu_kernel"
  },
  "language_info": {
   "codemirror_mode": {
    "name": "ipython",
    "version": 3
   },
   "file_extension": ".py",
   "mimetype": "text/x-python",
   "name": "python",
   "nbconvert_exporter": "python",
   "pygments_lexer": "ipython3",
   "version": "3.11.0"
  }
 },
 "nbformat": 4,
 "nbformat_minor": 5
}
