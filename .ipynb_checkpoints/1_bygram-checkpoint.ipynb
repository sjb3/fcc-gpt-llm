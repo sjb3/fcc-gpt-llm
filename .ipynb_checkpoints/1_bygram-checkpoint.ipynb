{
 "cells": [
  {
   "cell_type": "code",
   "execution_count": 1,
   "id": "85cc13cd-19d2-44d4-8f1c-be9bd4c3cd37",
   "metadata": {},
   "outputs": [
    {
     "name": "stdout",
     "output_type": "stream",
     "text": [
      "232327\n"
     ]
    }
   ],
   "source": [
    "with open('wizard_of_oz.txt', 'r', encoding='utf-8') as f:\n",
    "    text = f.read()\n",
    "    \n",
    "print(len(text))"
   ]
  },
  {
   "cell_type": "code",
   "execution_count": 2,
   "id": "eaa16064-8d6c-4971-8996-a9a249a60ea4",
   "metadata": {},
   "outputs": [
    {
     "name": "stdout",
     "output_type": "stream",
     "text": [
      "﻿  DOROTHY AND THE WIZARD IN OZ\n",
      "\n",
      "  BY\n",
      "\n",
      "  L. FRANK BAUM\n",
      "\n",
      "  AUTHOR OF THE WIZARD OF OZ, THE LAND OF OZ, OZMA OF OZ, ETC.\n",
      "\n",
      "  ILLUSTRATED BY JOHN R. NEILL\n",
      "\n",
      "  BOOKS OF WONDER WILLIAM MORROW & CO., INC. NEW\n"
     ]
    }
   ],
   "source": [
    "print(text[:200])"
   ]
  },
  {
   "cell_type": "code",
   "execution_count": 3,
   "id": "851406a0-4be3-4c41-8f30-17331df81631",
   "metadata": {},
   "outputs": [
    {
     "name": "stdout",
     "output_type": "stream",
     "text": [
      "['\\n', ' ', '!', '\"', '&', \"'\", '(', ')', '*', ',', '-', '.', '0', '1', '2', '3', '4', '5', '6', '7', '8', '9', ':', ';', '?', 'A', 'B', 'C', 'D', 'E', 'F', 'G', 'H', 'I', 'J', 'K', 'L', 'M', 'N', 'O', 'P', 'Q', 'R', 'S', 'T', 'U', 'V', 'W', 'X', 'Y', 'Z', '[', ']', '_', 'a', 'b', 'c', 'd', 'e', 'f', 'g', 'h', 'i', 'j', 'k', 'l', 'm', 'n', 'o', 'p', 'q', 'r', 's', 't', 'u', 'v', 'w', 'x', 'y', 'z', '\\ufeff']\n"
     ]
    }
   ],
   "source": [
    "chars = sorted(set(text))\n",
    "print(chars)"
   ]
  },
  {
   "cell_type": "code",
   "execution_count": 4,
   "id": "5aafd27a-eb89-4376-b444-4ea14a9c0152",
   "metadata": {},
   "outputs": [],
   "source": [
    "### tokenizer consists of en- and decoder"
   ]
  },
  {
   "cell_type": "code",
   "execution_count": 13,
   "id": "9f8da07b-30df-45d3-9458-1a8d3b6875f5",
   "metadata": {},
   "outputs": [],
   "source": [
    "string_to_int = { ch:i for i,ch in enumerate(chars) }\n",
    "int_to_string = { i:ch for i,ch in enumerate(chars) }\n",
    "\n",
    "encode = lambda s: [string_to_int[c] for c in s]\n",
    "decode = lambda l: ''.join([int_to_string[i] for i in l])"
   ]
  },
  {
   "cell_type": "code",
   "execution_count": 14,
   "id": "d09985e4-dd85-4bb0-9a0b-dfc9dbe85bdf",
   "metadata": {},
   "outputs": [
    {
     "name": "stdout",
     "output_type": "stream",
     "text": [
      "[61, 58, 65, 65, 68]\n"
     ]
    }
   ],
   "source": [
    "print(encode('hello'))"
   ]
  },
  {
   "cell_type": "code",
   "execution_count": 17,
   "id": "380f28a7-463b-4f7d-8832-58e9df71b22d",
   "metadata": {},
   "outputs": [
    {
     "name": "stdout",
     "output_type": "stream",
     "text": [
      "hello\n"
     ]
    }
   ],
   "source": [
    "print(decode(encode('hello')))"
   ]
  },
  {
   "cell_type": "code",
   "execution_count": 20,
   "id": "c86340da-8164-497b-9099-70298b73cf1c",
   "metadata": {},
   "outputs": [
    {
     "name": "stdout",
     "output_type": "stream",
     "text": [
      "tensor([80,  1,  1, 28, 39, 42, 39, 44, 32, 49,  1, 25, 38, 28,  1, 44, 32, 29,\n",
      "         1, 47, 33, 50, 25, 42, 28,  1, 33, 38,  1, 39, 50,  0,  0,  1,  1, 26,\n",
      "        49,  0,  0,  1,  1, 36, 11,  1, 30, 42, 25, 38, 35,  1, 26, 25, 45, 37,\n",
      "         0,  0,  1,  1, 25, 45, 44, 32, 39, 42,  1, 39, 30,  1, 44, 32, 29,  1,\n",
      "        47, 33, 50, 25, 42, 28,  1, 39, 30,  1, 39, 50,  9,  1, 44, 32, 29,  1,\n",
      "        36, 25, 38, 28,  1, 39, 30,  1, 39, 50])\n"
     ]
    }
   ],
   "source": [
    "## pyTorch handles math, calc part - pyTorch way below\n",
    "\n",
    "import torch\n",
    "\n",
    "data = torch.tensor(encode(text), dtype=torch.long)\n",
    "print(data[:100])"
   ]
  },
  {
   "cell_type": "code",
   "execution_count": 21,
   "id": "1533a1c5-2e0a-4511-a930-104a841b0ce0",
   "metadata": {},
   "outputs": [],
   "source": [
    "## Validation and training splits(8:2)\n",
    "\n",
    "n = int(0.8*len(data))\n",
    "\n",
    "train_data = data[:n] \n",
    "val_data   = data[n:]\n",
    "        "
   ]
  },
  {
   "cell_type": "code",
   "execution_count": 22,
   "id": "4d3a2585-07e0-4ab1-90b6-bda71c831c6a",
   "metadata": {},
   "outputs": [
    {
     "name": "stdout",
     "output_type": "stream",
     "text": [
      "tensor([80,  1,  1,  ..., 61,  1, 57]) tensor([71, 54, 76,  ..., 52,  0,  0])\n"
     ]
    }
   ],
   "source": [
    "print(train_data, val_data)"
   ]
  },
  {
   "cell_type": "code",
   "execution_count": 31,
   "id": "3acea49b-affe-484f-b5ee-72a4ff52815b",
   "metadata": {},
   "outputs": [
    {
     "name": "stdout",
     "output_type": "stream",
     "text": [
      "When input is  tensor([80]) taget is  tensor(1)\n",
      "When input is  tensor([80,  1]) taget is  tensor(1)\n",
      "When input is  tensor([80,  1,  1]) taget is  tensor(28)\n",
      "When input is  tensor([80,  1,  1, 28]) taget is  tensor(39)\n",
      "When input is  tensor([80,  1,  1, 28, 39]) taget is  tensor(42)\n",
      "When input is  tensor([80,  1,  1, 28, 39, 42]) taget is  tensor(39)\n",
      "When input is  tensor([80,  1,  1, 28, 39, 42, 39]) taget is  tensor(44)\n",
      "When input is  tensor([80,  1,  1, 28, 39, 42, 39, 44]) taget is  tensor(32)\n"
     ]
    }
   ],
   "source": [
    "block_size = 8\n",
    "\n",
    "x = train_data[:block_size] \n",
    "y = train_data[1:block_size + 1] # last element is of our interest, that we wanna predict\n",
    "\n",
    "# print(x, y)\n",
    "\n",
    "for t in range(block_size):\n",
    "    context = x[:t+1]\n",
    "    # print(context)\n",
    "    target  = y[t]\n",
    "    # print(target)\n",
    "    print('When input is ', context, 'taget is ', target)"
   ]
  },
  {
   "cell_type": "code",
   "execution_count": 34,
   "id": "95518f84-3cc6-43be-9226-d7d63b9eff5a",
   "metadata": {},
   "outputs": [
    {
     "name": "stdout",
     "output_type": "stream",
     "text": [
      "cpu\n"
     ]
    }
   ],
   "source": []
  },
  {
   "cell_type": "code",
   "execution_count": null,
   "id": "1836a300-e80f-42b9-9d83-d027626295ec",
   "metadata": {},
   "outputs": [],
   "source": []
  }
 ],
 "metadata": {
  "kernelspec": {
   "display_name": "gpu kernel",
   "language": "python",
   "name": "gpu_kernel"
  },
  "language_info": {
   "codemirror_mode": {
    "name": "ipython",
    "version": 3
   },
   "file_extension": ".py",
   "mimetype": "text/x-python",
   "name": "python",
   "nbconvert_exporter": "python",
   "pygments_lexer": "ipython3",
   "version": "3.11.0"
  }
 },
 "nbformat": 4,
 "nbformat_minor": 5
}
